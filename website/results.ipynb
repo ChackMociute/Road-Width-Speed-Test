{
 "cells": [
  {
   "cell_type": "code",
   "execution_count": 3,
   "id": "00e90bf6-51f0-4ff8-8640-93dfc7799789",
   "metadata": {
    "tags": []
   },
   "outputs": [],
   "source": [
    "import pandas as pd\n",
    "from app.models import Participant\n",
    "from app import app"
   ]
  },
  {
   "cell_type": "code",
   "execution_count": 11,
   "id": "4ca78525-5afa-4dd8-b202-b786ec45770b",
   "metadata": {
    "tags": []
   },
   "outputs": [],
   "source": [
    "with app.app_context():\n",
    "    df = pd.DataFrame([{'name': p.name, 'filename': r.filename, 'response': r.response, 'RT': r.response_time}\n",
    "                       for p in Participant.query.all() for r in p.images])"
   ]
  },
  {
   "cell_type": "code",
   "execution_count": 15,
   "id": "fe0b9611-2af2-4313-a12d-da00eea4b649",
   "metadata": {},
   "outputs": [
    {
     "data": {
      "text/html": [
       "<div>\n",
       "<style scoped>\n",
       "    .dataframe tbody tr th:only-of-type {\n",
       "        vertical-align: middle;\n",
       "    }\n",
       "\n",
       "    .dataframe tbody tr th {\n",
       "        vertical-align: top;\n",
       "    }\n",
       "\n",
       "    .dataframe thead th {\n",
       "        text-align: right;\n",
       "    }\n",
       "</style>\n",
       "<table border=\"1\" class=\"dataframe\">\n",
       "  <thead>\n",
       "    <tr style=\"text-align: right;\">\n",
       "      <th></th>\n",
       "      <th>name</th>\n",
       "      <th>filename</th>\n",
       "      <th>response</th>\n",
       "      <th>RT</th>\n",
       "    </tr>\n",
       "  </thead>\n",
       "  <tbody>\n",
       "    <tr>\n",
       "      <th>0</th>\n",
       "      <td>test</td>\n",
       "      <td>59.png</td>\n",
       "      <td>90.0</td>\n",
       "      <td>5487.314945</td>\n",
       "    </tr>\n",
       "    <tr>\n",
       "      <th>50</th>\n",
       "      <td>Pablo</td>\n",
       "      <td>159.png</td>\n",
       "      <td>70.0</td>\n",
       "      <td>19588.298884</td>\n",
       "    </tr>\n",
       "    <tr>\n",
       "      <th>51</th>\n",
       "      <td>Pablo</td>\n",
       "      <td>11.png</td>\n",
       "      <td>110.0</td>\n",
       "      <td>10071.317945</td>\n",
       "    </tr>\n",
       "    <tr>\n",
       "      <th>52</th>\n",
       "      <td>Pablo</td>\n",
       "      <td>49.png</td>\n",
       "      <td>70.0</td>\n",
       "      <td>9025.951046</td>\n",
       "    </tr>\n",
       "    <tr>\n",
       "      <th>53</th>\n",
       "      <td>Pablo</td>\n",
       "      <td>20.png</td>\n",
       "      <td>50.0</td>\n",
       "      <td>8535.827885</td>\n",
       "    </tr>\n",
       "    <tr>\n",
       "      <th>...</th>\n",
       "      <td>...</td>\n",
       "      <td>...</td>\n",
       "      <td>...</td>\n",
       "      <td>...</td>\n",
       "    </tr>\n",
       "    <tr>\n",
       "      <th>2795</th>\n",
       "      <td>Patryk</td>\n",
       "      <td>65.png</td>\n",
       "      <td>100.0</td>\n",
       "      <td>7478.495517</td>\n",
       "    </tr>\n",
       "    <tr>\n",
       "      <th>2796</th>\n",
       "      <td>Patryk</td>\n",
       "      <td>228.png</td>\n",
       "      <td>50.0</td>\n",
       "      <td>14423.313322</td>\n",
       "    </tr>\n",
       "    <tr>\n",
       "      <th>2797</th>\n",
       "      <td>Patryk</td>\n",
       "      <td>63.png</td>\n",
       "      <td>90.0</td>\n",
       "      <td>3931.629942</td>\n",
       "    </tr>\n",
       "    <tr>\n",
       "      <th>2798</th>\n",
       "      <td>Patryk</td>\n",
       "      <td>219.png</td>\n",
       "      <td>70.0</td>\n",
       "      <td>7632.017599</td>\n",
       "    </tr>\n",
       "    <tr>\n",
       "      <th>2799</th>\n",
       "      <td>Patryk</td>\n",
       "      <td>131.png</td>\n",
       "      <td>90.0</td>\n",
       "      <td>5098.972503</td>\n",
       "    </tr>\n",
       "  </tbody>\n",
       "</table>\n",
       "<p>1939 rows × 4 columns</p>\n",
       "</div>"
      ],
      "text/plain": [
       "        name filename  response            RT\n",
       "0       test   59.png      90.0   5487.314945\n",
       "50     Pablo  159.png      70.0  19588.298884\n",
       "51     Pablo   11.png     110.0  10071.317945\n",
       "52     Pablo   49.png      70.0   9025.951046\n",
       "53     Pablo   20.png      50.0   8535.827885\n",
       "...      ...      ...       ...           ...\n",
       "2795  Patryk   65.png     100.0   7478.495517\n",
       "2796  Patryk  228.png      50.0  14423.313322\n",
       "2797  Patryk   63.png      90.0   3931.629942\n",
       "2798  Patryk  219.png      70.0   7632.017599\n",
       "2799  Patryk  131.png      90.0   5098.972503\n",
       "\n",
       "[1939 rows x 4 columns]"
      ]
     },
     "execution_count": 15,
     "metadata": {},
     "output_type": "execute_result"
    }
   ],
   "source": [
    "df.dropna()#.groupby('name').count()"
   ]
  }
 ],
 "metadata": {
  "kernelspec": {
   "display_name": "Python 3 (ipykernel)",
   "language": "python",
   "name": "python3"
  },
  "language_info": {
   "codemirror_mode": {
    "name": "ipython",
    "version": 3
   },
   "file_extension": ".py",
   "mimetype": "text/x-python",
   "name": "python",
   "nbconvert_exporter": "python",
   "pygments_lexer": "ipython3",
   "version": "3.10.13"
  }
 },
 "nbformat": 4,
 "nbformat_minor": 5
}
