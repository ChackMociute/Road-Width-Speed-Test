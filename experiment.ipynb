{
 "cells": [
  {
   "cell_type": "code",
   "execution_count": 1,
   "id": "743af4ee-3147-4199-92c1-81b4fe59c1a4",
   "metadata": {
    "tags": []
   },
   "outputs": [],
   "source": [
    "import os, re\n",
    "import pandas as pd\n",
    "from IPython.display import Image, display, clear_output"
   ]
  },
  {
   "cell_type": "code",
   "execution_count": 2,
   "id": "4e716c07-b960-4b5e-8ee4-9777ce7bf327",
   "metadata": {
    "tags": []
   },
   "outputs": [],
   "source": [
    "N = 5 # Number of iterations\n",
    "\n",
    "df = pd.read_csv(\"dataset/data.csv\", index_col=0)\n",
    "df = df.sample(frac=N/len(df))\n",
    "\n",
    "for filename, env, width, _ in df.values:\n",
    "    display(Image(f\"dataset/{filename}\"))\n",
    "    while True:\n",
    "        x = input()\n",
    "        if re.match(\"^[1-9][0-9]+$\", x):\n",
    "            x = int(x)\n",
    "            break\n",
    "    clear_output()"
   ]
  }
 ],
 "metadata": {
  "kernelspec": {
   "display_name": "Python 3 (ipykernel)",
   "language": "python",
   "name": "python3"
  },
  "language_info": {
   "codemirror_mode": {
    "name": "ipython",
    "version": 3
   },
   "file_extension": ".py",
   "mimetype": "text/x-python",
   "name": "python",
   "nbconvert_exporter": "python",
   "pygments_lexer": "ipython3",
   "version": "3.11.3"
  }
 },
 "nbformat": 4,
 "nbformat_minor": 5
}
