{
 "cells": [
  {
   "cell_type": "code",
   "execution_count": 1,
   "id": "7dc1f449-2b90-4df8-8f90-18c9737697bc",
   "metadata": {
    "tags": []
   },
   "outputs": [],
   "source": [
    "import os\n",
    "import pandas as pd\n",
    "from PIL import Image"
   ]
  },
  {
   "cell_type": "code",
   "execution_count": 2,
   "id": "ef90e21e-fa2d-4240-b1f7-1e20272d288b",
   "metadata": {
    "tags": []
   },
   "outputs": [],
   "source": [
    "def crop(image, name, x=0.175):\n",
    "    w, h = image.size\n",
    "    image.crop((x*w, x*h, (1-x)*w, (1-x)*h)).save(f\"website/app/static/{name}\")\n",
    "    \n",
    "def save(file, name, env):\n",
    "    _, w, s, l = [float(x) for x in file[:-4].split(',')]\n",
    "    return {'filename': name, 'environment': env, 'width': w, 'shoulder': s, 'lanes': int(l)}"
   ]
  },
  {
   "cell_type": "code",
   "execution_count": 3,
   "id": "871cbaaf-7d9b-405d-a568-7dc20277b144",
   "metadata": {
    "tags": []
   },
   "outputs": [],
   "source": [
    "c, data = 0, list()\n",
    "for person in os.listdir(\"Data\"):\n",
    "    for env in os.listdir(f\"Data/{person}/\"):\n",
    "        if not os.path.exists(f\"dataset\"): os.mkdir(f\"dataset\")\n",
    "        for file in os.listdir(f\"Data/{person}/{env}\"):\n",
    "            if file.endswith('.png'):\n",
    "                name = f\"{c}.png\"\n",
    "                c += 1\n",
    "                crop(Image.open(f\"Data/{person}/{env}/{file}\"), name)\n",
    "                data.append(save(file, name, env))"
   ]
  },
  {
   "cell_type": "code",
   "execution_count": 4,
   "id": "e3d1b097-2065-4eaf-9955-fd137e05820e",
   "metadata": {
    "tags": []
   },
   "outputs": [],
   "source": [
    "pd.DataFrame(data).to_csv('website/app/static/data.csv')"
   ]
  }
 ],
 "metadata": {
  "kernelspec": {
   "display_name": "Python 3 (ipykernel)",
   "language": "python",
   "name": "python3"
  },
  "language_info": {
   "codemirror_mode": {
    "name": "ipython",
    "version": 3
   },
   "file_extension": ".py",
   "mimetype": "text/x-python",
   "name": "python",
   "nbconvert_exporter": "python",
   "pygments_lexer": "ipython3",
   "version": "3.11.3"
  }
 },
 "nbformat": 4,
 "nbformat_minor": 5
}
